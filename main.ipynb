{
 "cells": [
  {
   "cell_type": "code",
   "execution_count": 19,
   "metadata": {},
   "outputs": [],
   "source": [
    "# First step is to import the necessary libraries that we will be working with\n",
    "import pandas as pd\n",
    "import numpy as np"
   ]
  },
  {
   "cell_type": "code",
   "execution_count": 3,
   "metadata": {},
   "outputs": [],
   "source": [
    "# Next step is to read the data and set it into a pandas dataframe to work with data\n",
    "df = pd.read_csv('SuperBowlDataset.csv')"
   ]
  },
  {
   "cell_type": "code",
   "execution_count": 4,
   "metadata": {},
   "outputs": [
    {
     "data": {
      "text/html": [
       "<div>\n",
       "<style scoped>\n",
       "    .dataframe tbody tr th:only-of-type {\n",
       "        vertical-align: middle;\n",
       "    }\n",
       "\n",
       "    .dataframe tbody tr th {\n",
       "        vertical-align: top;\n",
       "    }\n",
       "\n",
       "    .dataframe thead th {\n",
       "        text-align: right;\n",
       "    }\n",
       "</style>\n",
       "<table border=\"1\" class=\"dataframe\">\n",
       "  <thead>\n",
       "    <tr style=\"text-align: right;\">\n",
       "      <th></th>\n",
       "      <th>year</th>\n",
       "      <th>brand</th>\n",
       "      <th>superbowl_ads_dot_com_url</th>\n",
       "      <th>youtube_url</th>\n",
       "      <th>funny</th>\n",
       "      <th>show_product_quickly</th>\n",
       "      <th>patriotic</th>\n",
       "      <th>celebrity</th>\n",
       "      <th>danger</th>\n",
       "      <th>animals</th>\n",
       "      <th>use_sex</th>\n",
       "    </tr>\n",
       "  </thead>\n",
       "  <tbody>\n",
       "    <tr>\n",
       "      <th>0</th>\n",
       "      <td>2000</td>\n",
       "      <td>E-Trade</td>\n",
       "      <td>https://superbowl-ads.com/2000-etrade-monkey-d...</td>\n",
       "      <td>https://www.youtube.com/watch?v=Muyq2kMDFoA</td>\n",
       "      <td>True</td>\n",
       "      <td>True</td>\n",
       "      <td>False</td>\n",
       "      <td>False</td>\n",
       "      <td>False</td>\n",
       "      <td>True</td>\n",
       "      <td>False</td>\n",
       "    </tr>\n",
       "    <tr>\n",
       "      <th>1</th>\n",
       "      <td>2000</td>\n",
       "      <td>E-Trade</td>\n",
       "      <td>https://superbowl-ads.com/2000-etrade-money-ou...</td>\n",
       "      <td>https://www.youtube.com/watch?v=oftjwYmlfoA</td>\n",
       "      <td>True</td>\n",
       "      <td>True</td>\n",
       "      <td>False</td>\n",
       "      <td>False</td>\n",
       "      <td>True</td>\n",
       "      <td>False</td>\n",
       "      <td>False</td>\n",
       "    </tr>\n",
       "    <tr>\n",
       "      <th>2</th>\n",
       "      <td>2000</td>\n",
       "      <td>Budweiser</td>\n",
       "      <td>https://superbowl-ads.com/2000-budweiser-whaas...</td>\n",
       "      <td>https://www.youtube.com/watch?v=loimTUjV92Q</td>\n",
       "      <td>True</td>\n",
       "      <td>True</td>\n",
       "      <td>False</td>\n",
       "      <td>False</td>\n",
       "      <td>False</td>\n",
       "      <td>False</td>\n",
       "      <td>False</td>\n",
       "    </tr>\n",
       "    <tr>\n",
       "      <th>3</th>\n",
       "      <td>2000</td>\n",
       "      <td>Bud Light</td>\n",
       "      <td>https://superbowl-ads.com/2000-bud-light-hold-...</td>\n",
       "      <td>https://www.youtube.com/watch?v=M3IV93HwSkc</td>\n",
       "      <td>True</td>\n",
       "      <td>True</td>\n",
       "      <td>False</td>\n",
       "      <td>False</td>\n",
       "      <td>True</td>\n",
       "      <td>False</td>\n",
       "      <td>False</td>\n",
       "    </tr>\n",
       "    <tr>\n",
       "      <th>4</th>\n",
       "      <td>2000</td>\n",
       "      <td>Budweiser</td>\n",
       "      <td>https://superbowl-ads.com/2000-budweiser-talki...</td>\n",
       "      <td>NaN</td>\n",
       "      <td>True</td>\n",
       "      <td>False</td>\n",
       "      <td>False</td>\n",
       "      <td>False</td>\n",
       "      <td>False</td>\n",
       "      <td>True</td>\n",
       "      <td>False</td>\n",
       "    </tr>\n",
       "  </tbody>\n",
       "</table>\n",
       "</div>"
      ],
      "text/plain": [
       "   year      brand                          superbowl_ads_dot_com_url  \\\n",
       "0  2000    E-Trade  https://superbowl-ads.com/2000-etrade-monkey-d...   \n",
       "1  2000    E-Trade  https://superbowl-ads.com/2000-etrade-money-ou...   \n",
       "2  2000  Budweiser  https://superbowl-ads.com/2000-budweiser-whaas...   \n",
       "3  2000  Bud Light  https://superbowl-ads.com/2000-bud-light-hold-...   \n",
       "4  2000  Budweiser  https://superbowl-ads.com/2000-budweiser-talki...   \n",
       "\n",
       "                                   youtube_url  funny  show_product_quickly  \\\n",
       "0  https://www.youtube.com/watch?v=Muyq2kMDFoA   True                  True   \n",
       "1  https://www.youtube.com/watch?v=oftjwYmlfoA   True                  True   \n",
       "2  https://www.youtube.com/watch?v=loimTUjV92Q   True                  True   \n",
       "3  https://www.youtube.com/watch?v=M3IV93HwSkc   True                  True   \n",
       "4                                          NaN   True                 False   \n",
       "\n",
       "   patriotic  celebrity  danger  animals  use_sex  \n",
       "0      False      False   False     True    False  \n",
       "1      False      False    True    False    False  \n",
       "2      False      False   False    False    False  \n",
       "3      False      False    True    False    False  \n",
       "4      False      False   False     True    False  "
      ]
     },
     "execution_count": 4,
     "metadata": {},
     "output_type": "execute_result"
    }
   ],
   "source": [
    "df.head()"
   ]
  },
  {
   "cell_type": "code",
   "execution_count": 12,
   "metadata": {},
   "outputs": [
    {
     "data": {
      "text/plain": [
       "(244, 11)"
      ]
     },
     "execution_count": 12,
     "metadata": {},
     "output_type": "execute_result"
    }
   ],
   "source": [
    "# Beginning the data cleaning process\n",
    "df.shape # We can tell there are 244 rows and 11 columns\n"
   ]
  },
  {
   "cell_type": "code",
   "execution_count": 50,
   "metadata": {},
   "outputs": [
    {
     "data": {
      "text/plain": [
       "year                          21\n",
       "brand                         10\n",
       "superbowl_ads_dot_com_url    244\n",
       "youtube_url                  233\n",
       "funny                          2\n",
       "show_product_quickly           2\n",
       "patriotic                      2\n",
       "celebrity                      2\n",
       "danger                         2\n",
       "animals                        2\n",
       "use_sex                        2\n",
       "dtype: int64"
      ]
     },
     "execution_count": 50,
     "metadata": {},
     "output_type": "execute_result"
    }
   ],
   "source": [
    "df.nunique(axis=0)"
   ]
  },
  {
   "cell_type": "code",
   "execution_count": 17,
   "metadata": {},
   "outputs": [
    {
     "name": "stdout",
     "output_type": "stream",
     "text": [
      "0      2000\n",
      "1      2000\n",
      "2      2000\n",
      "3      2000\n",
      "4      2000\n",
      "       ... \n",
      "239    2020\n",
      "240    2020\n",
      "241    2020\n",
      "242    2020\n",
      "243    2020\n",
      "Name: year, Length: 244, dtype: int64\n"
     ]
    }
   ],
   "source": [
    "# Lets build a checker for the year\n",
    "years = df['year'][:]\n",
    "print(years)\n"
   ]
  },
  {
   "cell_type": "code",
   "execution_count": 20,
   "metadata": {},
   "outputs": [
    {
     "data": {
      "text/plain": [
       "array([2000, 2001, 2002, 2003, 2004, 2005, 2006, 2007, 2008, 2009, 2010,\n",
       "       2011, 2012, 2013, 2014, 2015, 2016, 2017, 2018, 2019])"
      ]
     },
     "execution_count": 20,
     "metadata": {},
     "output_type": "execute_result"
    }
   ],
   "source": [
    "# Create a duplicate list using numpy to check against from years 2000 to 2020\n",
    "np.arange(2000,2020)"
   ]
  },
  {
   "cell_type": "code",
   "execution_count": 41,
   "metadata": {},
   "outputs": [
    {
     "name": "stdout",
     "output_type": "stream",
     "text": [
      "Years are equal\n"
     ]
    }
   ],
   "source": [
    "# Checking the years column to see if any years were skipped or typed out of order\n",
    "years = df['year'].to_numpy()\n",
    "year_range = np.arange(years.min(), years.max()+1)\n",
    "unique_years = np.unique(years)\n",
    "comparison = year_range == unique_years\n",
    "equal_arrays = comparison.all()\n",
    "\n",
    "if equal_arrays:\n",
    "    print(\"Years are equal\")\n"
   ]
  },
  {
   "cell_type": "code",
   "execution_count": 43,
   "metadata": {},
   "outputs": [
    {
     "name": "stdout",
     "output_type": "stream",
     "text": [
      "['Bud Light' 'Budweiser' 'Coca-Cola' 'Doritos' 'E-Trade' 'Hynudai' 'Kia'\n",
      " 'NFL' 'Pepsi' 'Toyota']\n"
     ]
    }
   ],
   "source": [
    "brand = df['brand'].to_numpy()\n",
    "unique_brands = np.unique(brand)\n",
    "print(unique_brands)\n",
    "# Hyundai is mispelled, create new df with  proper spelling "
   ]
  },
  {
   "cell_type": "code",
   "execution_count": 51,
   "metadata": {},
   "outputs": [
    {
     "name": "stdout",
     "output_type": "stream",
     "text": [
      "0.9549180327868853\n"
     ]
    }
   ],
   "source": [
    "missing_url_number = df.shape[0] - df['youtube_url'].count()\n",
    "percent_url_missing = df['youtube_url'].count() / df.shape[0]\n",
    "print(percent_url_missing)"
   ]
  },
  {
   "cell_type": "code",
   "execution_count": 46,
   "metadata": {},
   "outputs": [
    {
     "data": {
      "text/plain": [
       "244"
      ]
     },
     "execution_count": 46,
     "metadata": {},
     "output_type": "execute_result"
    }
   ],
   "source": []
  },
  {
   "cell_type": "code",
   "execution_count": 62,
   "metadata": {},
   "outputs": [
    {
     "name": "stdout",
     "output_type": "stream",
     "text": [
      "168\n"
     ]
    }
   ],
   "source": [
    "true_funny = df['funny'].values.sum() * 1\n",
    "false_funny = (~df['funny']).values.sum() * 1\n",
    "total = true_funny + false_funny\n",
    "# print(f\"funny: {(true_funny / total)}\")\n",
    "# print(f\"NOT funny: {(false_funny / total)*1}\")\n",
    "print(true_funny)\n",
    "\n"
   ]
  },
  {
   "cell_type": "code",
   "execution_count": null,
   "metadata": {},
   "outputs": [],
   "source": []
  }
 ],
 "metadata": {
  "kernelspec": {
   "display_name": "Python 3",
   "language": "python",
   "name": "python3"
  },
  "language_info": {
   "codemirror_mode": {
    "name": "ipython",
    "version": 3
   },
   "file_extension": ".py",
   "mimetype": "text/x-python",
   "name": "python",
   "nbconvert_exporter": "python",
   "pygments_lexer": "ipython3",
   "version": "3.9.6"
  },
  "orig_nbformat": 4,
  "vscode": {
   "interpreter": {
    "hash": "81794d4967e6c3204c66dcd87b604927b115b27c00565d3d43f05ba2f3a2cb0d"
   }
  }
 },
 "nbformat": 4,
 "nbformat_minor": 2
}
